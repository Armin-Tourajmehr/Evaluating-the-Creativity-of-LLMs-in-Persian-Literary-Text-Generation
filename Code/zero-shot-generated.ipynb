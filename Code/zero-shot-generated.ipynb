{
 "cells": [
  {
   "cell_type": "markdown",
   "metadata": {},
   "source": [
    "# Import Libraries"
   ]
  },
  {
   "cell_type": "code",
   "execution_count": null,
   "metadata": {},
   "outputs": [],
   "source": [
    "import pandas as pd\n",
    "import numpy as np\n",
    "import csv\n",
    "import matplotlib.pyplot as plt\n",
    "import seaborn as sns\n",
    "import requests\n",
    "from openai import OpenAI\n",
    "import time"
   ]
  },
  {
   "cell_type": "code",
   "execution_count": null,
   "metadata": {},
   "outputs": [],
   "source": [
    "# Your OpenAI API key \n",
    "client = OpenAI(\n",
    "  base_url=\"****\",\n",
    "  api_key=\"****\",\n",
    ")"
   ]
  },
  {
   "cell_type": "markdown",
   "metadata": {},
   "source": [
    "# GPT3.5-turbo"
   ]
  },
  {
   "cell_type": "code",
   "execution_count": null,
   "metadata": {},
   "outputs": [],
   "source": [
    "# Function to generate sentences for a given query\n",
    "def generate_sentences(query):\n",
    "    prompt = f\"متن ادبی در یک جمله در مورد {query} بنویس\"\n",
    "    sentences = []\n",
    "\n",
    "    for i in range(20):\n",
    "        try:\n",
    "            response = client.chat.completions.create(\n",
    "                model=\"openai/gpt-3.5-turbo\",\n",
    "                messages=[\n",
    "                    {\"role\": \"system\", \"content\": \"شما یک مدل هستید که جملات ادبی و خلاقانه به زبان فارسی تولید می‌کنید.\"},\n",
    "                    {\"role\": \"user\", \"content\": prompt}\n",
    "                ],\n",
    "                max_tokens=100,\n",
    "                temperature=1\n",
    "            )\n",
    "\n",
    "            generated_text = response.choices[0].message.content.strip()\n",
    "            if generated_text.startswith(\"ید\"):\n",
    "                generated_text = generated_text[2:].strip()\n",
    "\n",
    "            print(f\"{i+1:02d}. {generated_text}\")\n",
    "            sentences.append(generated_text)\n",
    "\n",
    "            time.sleep(1)  \n",
    "\n",
    "        except Exception as e:\n",
    "            print(f\"Error in generation {i+1}: {e}\")\n",
    "            continue\n",
    "\n",
    "    return sentences\n",
    "\n"
   ]
  },
  {
   "cell_type": "code",
   "execution_count": null,
   "metadata": {},
   "outputs": [],
   "source": [
    "# Example usage\n",
    "queries = ['عشق', 'امید', 'رفاقت', 'دلتنگی', 'ناامیدی']\n",
    "generated_dict_gpt3_5_turbo = {}\n",
    "# Generate sentences for each query\n",
    "for query in queries:\n",
    "    sentences = generate_sentences(query)\n",
    "    generated_dict_gpt3_5_turbo[query] = sentences\n"
   ]
  },
  {
   "cell_type": "code",
   "execution_count": null,
   "metadata": {},
   "outputs": [],
   "source": [
    "# Function to save the generated dictionary into a CSV file\n",
    "def save_dict_to_csv(generated_dict, filename):\n",
    "    with open(filename, 'w', newline='', encoding='utf-8') as csvfile:\n",
    "        writer = csv.writer(csvfile)\n",
    "        # Write the header row\n",
    "        writer.writerow(['Query', 'Sentence'])\n",
    "        \n",
    "        # Write each query with its corresponding sentences\n",
    "        for query, sentences in generated_dict.items():\n",
    "            for sentence in sentences:\n",
    "                writer.writerow([query, sentence])  # Each query-sentence pair in a new row\n",
    "\n",
    "# Example usage\n",
    "save_dict_to_csv(generated_dict_gpt3_5_turbo, 'zero-shot-generated-gpt3.5-turbo.csv')"
   ]
  },
  {
   "cell_type": "markdown",
   "metadata": {},
   "source": [
    "# Deepseek-v3-0324"
   ]
  },
  {
   "cell_type": "code",
   "execution_count": null,
   "metadata": {},
   "outputs": [],
   "source": [
    "# Function to generate sentences for a given query\n",
    "def generate_sentences(query):\n",
    "    prompt = f\"متن ادبی در یک جمله در مورد {query} بنویس\"\n",
    "    sentences = []\n",
    "\n",
    "    for i in range(20):\n",
    "        try:\n",
    "            response = client.chat.completions.create(\n",
    "                model=\"deepseek/deepseek-chat-v3-0324\",\n",
    "                messages=[\n",
    "                    {\"role\": \"system\", \"content\": \"شما یک مدل هستید که جملات ادبی و خلاقانه به زبان فارسی تولید می‌کنید.\"},\n",
    "                    {\"role\": \"user\", \"content\": prompt}\n",
    "                ],\n",
    "                max_tokens=100,\n",
    "                temperature=1\n",
    "            )\n",
    "\n",
    "            generated_text = response.choices[0].message.content.strip()\n",
    "            if generated_text.startswith(\"ید\"):\n",
    "                generated_text = generated_text[2:].strip()\n",
    "\n",
    "            print(f\"{i+1:02d}. {generated_text}\")\n",
    "            sentences.append(generated_text)\n",
    "\n",
    "            time.sleep(1)  \n",
    "\n",
    "        except Exception as e:\n",
    "            print(f\"Error in generation {i+1}: {e}\")\n",
    "            continue\n",
    "\n",
    "    return sentences\n",
    "\n"
   ]
  },
  {
   "cell_type": "code",
   "execution_count": null,
   "metadata": {},
   "outputs": [],
   "source": [
    "# Example usage\n",
    "queries = ['عشق', 'امید', 'رفاقت', 'دلتنگی', 'ناامیدی']\n",
    "generated_dict_deepseek_v3 = {}\n",
    "# Generate sentences for each query\n",
    "for query in queries:\n",
    "    sentences = generate_sentences(query)\n",
    "    generated_dict_deepseek_v3[query] = sentences\n",
    "\n"
   ]
  },
  {
   "cell_type": "code",
   "execution_count": null,
   "metadata": {},
   "outputs": [],
   "source": [
    "# Function to save the generated dictionary into a CSV file\n",
    "def save_dict_to_csv(generated_dict, filename):\n",
    "    with open(filename, 'w', newline='', encoding='utf-8') as csvfile:\n",
    "        writer = csv.writer(csvfile)\n",
    "        # Write the header row\n",
    "        writer.writerow(['Query', 'Sentence'])\n",
    "        \n",
    "        # Write each query with its corresponding sentences\n",
    "        for query, sentences in generated_dict.items():\n",
    "            for sentence in sentences:\n",
    "                writer.writerow([query, sentence])  # Each query-sentence pair in a new row\n",
    "\n",
    "# Example usage\n",
    "save_dict_to_csv(generated_dict_deepseek_v3, 'zero-shot-generated-deepseek-V3-0324.csv')"
   ]
  },
  {
   "cell_type": "markdown",
   "metadata": {},
   "source": [
    "# Qwen2.5 VL 32B Instrcut"
   ]
  },
  {
   "cell_type": "code",
   "execution_count": null,
   "metadata": {},
   "outputs": [],
   "source": [
    "# Function to generate sentences for a given query\n",
    "def generate_sentences(query):\n",
    "    prompt = f\"متن ادبی در یک جمله در مورد {query} بنویس\"\n",
    "    sentences = []\n",
    "\n",
    "    for i in range(20):\n",
    "        try:\n",
    "            response = client.chat.completions.create(\n",
    "                model=\"qwen/qwen2.5-vl-32b-instruct\",\n",
    "                messages=[\n",
    "                    {\"role\": \"system\", \"content\": \"شما یک مدل هستید که جملات ادبی و خلاقانه به زبان فارسی تولید می‌کنید.\"},\n",
    "                    {\"role\": \"user\", \"content\": prompt}\n",
    "                ],\n",
    "                max_tokens=100,\n",
    "                temperature=1\n",
    "            )\n",
    "\n",
    "            generated_text = response.choices[0].message.content.strip()\n",
    "            if generated_text.startswith(\"ید\"):\n",
    "                generated_text = generated_text[2:].strip()\n",
    "\n",
    "            print(f\"{i+1:02d}. {generated_text}\")\n",
    "            sentences.append(generated_text)\n",
    "\n",
    "            time.sleep(1)  \n",
    "\n",
    "        except Exception as e:\n",
    "            print(f\"Error in generation {i+1}: {e}\")\n",
    "            continue\n",
    "\n",
    "    return sentences\n",
    "\n"
   ]
  },
  {
   "cell_type": "code",
   "execution_count": null,
   "metadata": {},
   "outputs": [],
   "source": [
    "# Example usage\n",
    "queries = ['عشق', 'امید', 'رفاقت', 'دلتنگی', 'ناامیدی']\n",
    "generated_dict_qwen = {}\n",
    "# Generate sentences for each query\n",
    "for query in queries:\n",
    "    sentences = generate_sentences(query)\n",
    "    generated_dict_qwen[query] = sentences\n",
    "\n"
   ]
  },
  {
   "cell_type": "code",
   "execution_count": null,
   "metadata": {},
   "outputs": [],
   "source": [
    "# Function to save the generated dictionary into a CSV file\n",
    "def save_dict_to_csv(generated_dict, filename):\n",
    "    with open(filename, 'w', newline='', encoding='utf-8') as csvfile:\n",
    "        writer = csv.writer(csvfile)\n",
    "        # Write the header row\n",
    "        writer.writerow(['Query', 'Sentence'])\n",
    "        \n",
    "        # Write each query with its corresponding sentences\n",
    "        for query, sentences in generated_dict.items():\n",
    "            for sentence in sentences:\n",
    "                writer.writerow([query, sentence])  # Each query-sentence pair in a new row\n",
    "\n",
    "# Example usage\n",
    "save_dict_to_csv(generated_dict_qwen, 'zero-shot-generated-qwen2.5-VL-32b-instrcut.csv')"
   ]
  },
  {
   "cell_type": "markdown",
   "metadata": {},
   "source": [
    "# Gemma 3"
   ]
  },
  {
   "cell_type": "code",
   "execution_count": null,
   "metadata": {},
   "outputs": [],
   "source": [
    "# Function to generate sentences for a given query\n",
    "def generate_sentences(query):\n",
    "    prompt = f\"متن ادبی در یک جمله در مورد {query} بنویس\"\n",
    "    sentences = []\n",
    "\n",
    "    for i in range(20):\n",
    "        try:\n",
    "            response = client.chat.completions.create(\n",
    "                model=\"google/gemma-3-27b-it\",\n",
    "                messages=[\n",
    "                    {\"role\": \"system\", \"content\": \"شما یک مدل هستید که جملات ادبی و خلاقانه به زبان فارسی تولید می‌کنید.\"},\n",
    "                    {\"role\": \"user\", \"content\": prompt}\n",
    "                ],\n",
    "                max_tokens=100,\n",
    "                temperature=1\n",
    "            )\n",
    "\n",
    "            generated_text = response.choices[0].message.content.strip()\n",
    "            if generated_text.startswith(\"ید\"):\n",
    "                generated_text = generated_text[2:].strip()\n",
    "\n",
    "            print(f\"{i+1:02d}. {generated_text}\")\n",
    "            sentences.append(generated_text)\n",
    "\n",
    "            time.sleep(1)  \n",
    "\n",
    "        except Exception as e:\n",
    "            print(f\"Error in generation {i+1}: {e}\")\n",
    "            continue\n",
    "\n",
    "    return sentences\n",
    "\n"
   ]
  },
  {
   "cell_type": "code",
   "execution_count": null,
   "metadata": {},
   "outputs": [],
   "source": [
    "# Example usage\n",
    "queries = ['عشق', 'امید', 'رفاقت', 'دلتنگی', 'ناامیدی']\n",
    "generated_dict_gemma3 = {}\n",
    "# Generate sentences for each query\n",
    "for query in queries:\n",
    "    sentences = generate_sentences(query)\n",
    "    generated_dict_gemma3[query] = sentences"
   ]
  },
  {
   "cell_type": "code",
   "execution_count": null,
   "metadata": {},
   "outputs": [],
   "source": [
    "# Function to save the generated dictionary into a CSV file\n",
    "def save_dict_to_csv(generated_dict, filename):\n",
    "    with open(filename, 'w', newline='', encoding='utf-8') as csvfile:\n",
    "        writer = csv.writer(csvfile)\n",
    "        # Write the header row\n",
    "        writer.writerow(['Query', 'Sentence'])\n",
    "        \n",
    "        # Write each query with its corresponding sentences\n",
    "        for query, sentences in generated_dict.items():\n",
    "            for sentence in sentences:\n",
    "                writer.writerow([query, sentence])  # Each query-sentence pair in a new row\n",
    "\n",
    "# Example usage\n",
    "save_dict_to_csv(generated_dict_gemma3, 'zero-shot-generated-gemma-3-27b-it.csv')"
   ]
  },
  {
   "cell_type": "markdown",
   "metadata": {},
   "source": [
    "# GPT 4.1"
   ]
  },
  {
   "cell_type": "code",
   "execution_count": null,
   "metadata": {},
   "outputs": [],
   "source": [
    "# Function to generate sentences for a given query\n",
    "def generate_sentences(query):\n",
    "    prompt = f\"متن ادبی در یک جمله در مورد {query} بنویس\"\n",
    "    sentences = []\n",
    "\n",
    "    for i in range(20):\n",
    "        try:\n",
    "            response = client.chat.completions.create(\n",
    "                model=\"openai/gpt-4.1\",\n",
    "                messages=[\n",
    "                    {\"role\": \"system\", \"content\": \"شما یک مدل هستید که جملات ادبی و خلاقانه به زبان فارسی تولید می‌کنید.\"},\n",
    "                    {\"role\": \"user\", \"content\": prompt}\n",
    "                ],\n",
    "                max_tokens=100,\n",
    "                temperature=1\n",
    "            )\n",
    "\n",
    "            generated_text = response.choices[0].message.content.strip()\n",
    "            if generated_text.startswith(\"ید\"):\n",
    "                generated_text = generated_text[2:].strip()\n",
    "\n",
    "            print(f\"{i+1:02d}. {generated_text}\")\n",
    "            sentences.append(generated_text)\n",
    "\n",
    "            time.sleep(1)  \n",
    "\n",
    "        except Exception as e:\n",
    "            print(f\"Error in generation {i+1}: {e}\")\n",
    "            continue\n",
    "\n",
    "    return sentences\n",
    "\n"
   ]
  },
  {
   "cell_type": "code",
   "execution_count": null,
   "metadata": {},
   "outputs": [],
   "source": [
    "# Example usage\n",
    "queries = ['عشق', 'امید', 'رفاقت', 'دلتنگی', 'ناامیدی']\n",
    "generated_dict_gpt4_1 = {}\n",
    "# Generate sentences for each query\n",
    "for query in queries:\n",
    "    sentences = generate_sentences(query)\n",
    "    generated_dict_gpt4_1[query] = sentences"
   ]
  },
  {
   "cell_type": "code",
   "execution_count": null,
   "metadata": {},
   "outputs": [],
   "source": [
    "# Function to save the generated dictionary into a CSV file\n",
    "def save_dict_to_csv(generated_dict, filename):\n",
    "    with open(filename, 'w', newline='', encoding='utf-8') as csvfile:\n",
    "        writer = csv.writer(csvfile)\n",
    "        # Write the header row\n",
    "        writer.writerow(['Query', 'Sentence'])\n",
    "        \n",
    "        # Write each query with its corresponding sentences\n",
    "        for query, sentences in generated_dict.items():\n",
    "            for sentence in sentences:\n",
    "                writer.writerow([query, sentence])  # Each query-sentence pair in a new row\n",
    "\n",
    "# Example usage\n",
    "save_dict_to_csv(generated_dict_gpt4_1, 'zero-shot-generated-gpt-4.1.csv')"
   ]
  },
  {
   "cell_type": "markdown",
   "metadata": {},
   "source": [
    "# Deepseek R1"
   ]
  },
  {
   "cell_type": "code",
   "execution_count": null,
   "metadata": {},
   "outputs": [],
   "source": [
    "# Function to generate sentences for a given query\n",
    "def generate_sentences(query):\n",
    "    prompt = f\"متن ادبی در یک جمله در مورد {query} بنویس\"\n",
    "    sentences = []\n",
    "\n",
    "    for i in range(20):\n",
    "        try:\n",
    "            response = client.chat.completions.create(\n",
    "                model=\"deepseek/deepseek-r1\",\n",
    "                messages=[\n",
    "                    {\"role\": \"system\", \"content\": \"شما یک مدل هستید که جملات ادبی و خلاقانه به زبان فارسی تولید می‌کنید.\"},\n",
    "                    {\"role\": \"user\", \"content\": prompt}\n",
    "                ],\n",
    "                max_tokens=5000,\n",
    "                temperature=1\n",
    "            )\n",
    "\n",
    "            generated_text = response.choices[0].message.content.strip()\n",
    "            if generated_text.startswith(\"ید\"):\n",
    "                generated_text = generated_text[2:].strip()\n",
    "\n",
    "            print(f\"{i+1:02d}. {generated_text}\")\n",
    "            sentences.append(generated_text)\n",
    "\n",
    "            time.sleep(1)  # برای احتیاط و جلوگیری از محدودیت نرخ\n",
    "\n",
    "        except Exception as e:\n",
    "            print(f\"Error in generation {i+1}: {e}\")\n",
    "            continue\n",
    "\n",
    "    return sentences\n",
    "\n"
   ]
  },
  {
   "cell_type": "code",
   "execution_count": null,
   "metadata": {},
   "outputs": [],
   "source": [
    "# Example usage\n",
    "queries = ['عشق', 'امید', 'رفاقت', 'دلتنگی', 'ناامیدی']\n",
    "generated_dict_deepseek_r1 = {}\n",
    "# Generate sentences for each query\n",
    "for query in queries:\n",
    "    sentences = generate_sentences(query)\n",
    "    generated_dict_deepseek_r1[query] = sentences"
   ]
  },
  {
   "cell_type": "code",
   "execution_count": null,
   "metadata": {},
   "outputs": [],
   "source": [
    "# Function to save the generated dictionary into a CSV file\n",
    "def save_dict_to_csv(generated_dict, filename):\n",
    "    with open(filename, 'w', newline='', encoding='utf-8') as csvfile:\n",
    "        writer = csv.writer(csvfile)\n",
    "        # Write the header row\n",
    "        writer.writerow(['Query', 'Sentence'])\n",
    "        \n",
    "        # Write each query with its corresponding sentences\n",
    "        for query, sentences in generated_dict.items():\n",
    "            for sentence in sentences:\n",
    "                writer.writerow([query, sentence])  # Each query-sentence pair in a new row\n",
    "\n",
    "# Example usage\n",
    "save_dict_to_csv(generated_dict_deepseek_r1, 'zero-shot-generated-deepseek-r1.csv')"
   ]
  }
 ],
 "metadata": {
  "kernelspec": {
   "display_name": "Python 3",
   "language": "python",
   "name": "python3"
  },
  "language_info": {
   "codemirror_mode": {
    "name": "ipython",
    "version": 3
   },
   "file_extension": ".py",
   "mimetype": "text/x-python",
   "name": "python",
   "nbconvert_exporter": "python",
   "pygments_lexer": "ipython3",
   "version": "3.11.0"
  }
 },
 "nbformat": 4,
 "nbformat_minor": 2
}
